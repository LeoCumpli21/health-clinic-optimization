{
 "cells": [
  {
   "cell_type": "code",
   "execution_count": 82,
   "id": "980812b7-2578-4fd1-86b2-031993a06ba1",
   "metadata": {},
   "outputs": [],
   "source": [
    "import numpy as np\n",
    "import pandas as pd\n",
    "\n",
    "%matplotlib inline\n",
    "import matplotlib.pyplot as plt\n",
    "import seaborn as sns\n",
    "\n",
    "from scipy import stats"
   ]
  },
  {
   "cell_type": "code",
   "execution_count": 14,
   "id": "be1aa2d2-af31-4b8a-a6d6-058fec3768af",
   "metadata": {},
   "outputs": [
    {
     "name": "stderr",
     "output_type": "stream",
     "text": [
      "C:\\Users\\cumpl\\AppData\\Local\\Temp\\ipykernel_36516\\3127935692.py:1: UserWarning: Could not infer format, so each element will be parsed individually, falling back to `dateutil`. To ensure parsing is consistent and as-expected, please specify a format.\n",
      "  clinics_df = pd.read_csv('../data/datos_limpios_p1.csv', parse_dates=[2, 12, 13, 15, 17])\n",
      "C:\\Users\\cumpl\\AppData\\Local\\Temp\\ipykernel_36516\\3127935692.py:1: UserWarning: Could not infer format, so each element will be parsed individually, falling back to `dateutil`. To ensure parsing is consistent and as-expected, please specify a format.\n",
      "  clinics_df = pd.read_csv('../data/datos_limpios_p1.csv', parse_dates=[2, 12, 13, 15, 17])\n"
     ]
    },
    {
     "data": {
      "text/html": [
       "<div>\n",
       "<style scoped>\n",
       "    .dataframe tbody tr th:only-of-type {\n",
       "        vertical-align: middle;\n",
       "    }\n",
       "\n",
       "    .dataframe tbody tr th {\n",
       "        vertical-align: top;\n",
       "    }\n",
       "\n",
       "    .dataframe thead th {\n",
       "        text-align: right;\n",
       "    }\n",
       "</style>\n",
       "<table border=\"1\" class=\"dataframe\">\n",
       "  <thead>\n",
       "    <tr style=\"text-align: right;\">\n",
       "      <th></th>\n",
       "      <th>Orden</th>\n",
       "      <th>Sucursal</th>\n",
       "      <th>FechaID</th>\n",
       "      <th>HoraLLegada</th>\n",
       "      <th>TurnoID</th>\n",
       "      <th>Turno</th>\n",
       "      <th>TurnoTipo</th>\n",
       "      <th>TurnoHoraInicio</th>\n",
       "      <th>TurnoHoraFin</th>\n",
       "      <th>TurnoMinutosEspera</th>\n",
       "      <th>TAPRecepcionMinutos</th>\n",
       "      <th>TAPRecepcionCaja</th>\n",
       "      <th>TurnoInicioDateTime</th>\n",
       "      <th>TurnoFinDateTime</th>\n",
       "      <th>TurnoGrupo</th>\n",
       "      <th>WaitingTimeInLine</th>\n",
       "      <th>HourOfDay</th>\n",
       "      <th>TimeInService</th>\n",
       "      <th>HasTimeInService</th>\n",
       "    </tr>\n",
       "  </thead>\n",
       "  <tbody>\n",
       "    <tr>\n",
       "      <th>0</th>\n",
       "      <td>424722</td>\n",
       "      <td>CULIACAN</td>\n",
       "      <td>2024-03-01</td>\n",
       "      <td>6</td>\n",
       "      <td>41691626</td>\n",
       "      <td>P001</td>\n",
       "      <td>Estudio Pendiente</td>\n",
       "      <td>06:32:32</td>\n",
       "      <td>06:34:58</td>\n",
       "      <td>2.43</td>\n",
       "      <td>0.58</td>\n",
       "      <td>1135.0</td>\n",
       "      <td>2024-03-01 06:32:32</td>\n",
       "      <td>2024-03-01 06:34:58</td>\n",
       "      <td>P</td>\n",
       "      <td>0 days 00:02:26</td>\n",
       "      <td>6</td>\n",
       "      <td>0 days 00:00:34.800000</td>\n",
       "      <td>1</td>\n",
       "    </tr>\n",
       "    <tr>\n",
       "      <th>1</th>\n",
       "      <td>424738</td>\n",
       "      <td>CULIACAN</td>\n",
       "      <td>2024-03-01</td>\n",
       "      <td>6</td>\n",
       "      <td>41696473</td>\n",
       "      <td>N020</td>\n",
       "      <td>Solicitar Estudios</td>\n",
       "      <td>06:47:18</td>\n",
       "      <td>07:06:33</td>\n",
       "      <td>19.25</td>\n",
       "      <td>4.42</td>\n",
       "      <td>1134.0</td>\n",
       "      <td>2024-03-01 06:47:18</td>\n",
       "      <td>2024-03-01 07:06:33</td>\n",
       "      <td>N</td>\n",
       "      <td>0 days 00:19:15</td>\n",
       "      <td>6</td>\n",
       "      <td>0 days 00:04:25.200000</td>\n",
       "      <td>1</td>\n",
       "    </tr>\n",
       "  </tbody>\n",
       "</table>\n",
       "</div>"
      ],
      "text/plain": [
       "    Orden  Sucursal    FechaID  HoraLLegada   TurnoID Turno  \\\n",
       "0  424722  CULIACAN 2024-03-01            6  41691626  P001   \n",
       "1  424738  CULIACAN 2024-03-01            6  41696473  N020   \n",
       "\n",
       "            TurnoTipo TurnoHoraInicio TurnoHoraFin  TurnoMinutosEspera  \\\n",
       "0   Estudio Pendiente        06:32:32     06:34:58                2.43   \n",
       "1  Solicitar Estudios        06:47:18     07:06:33               19.25   \n",
       "\n",
       "   TAPRecepcionMinutos  TAPRecepcionCaja TurnoInicioDateTime  \\\n",
       "0                 0.58            1135.0 2024-03-01 06:32:32   \n",
       "1                 4.42            1134.0 2024-03-01 06:47:18   \n",
       "\n",
       "     TurnoFinDateTime TurnoGrupo WaitingTimeInLine  HourOfDay  \\\n",
       "0 2024-03-01 06:34:58          P   0 days 00:02:26          6   \n",
       "1 2024-03-01 07:06:33          N   0 days 00:19:15          6   \n",
       "\n",
       "            TimeInService  HasTimeInService  \n",
       "0  0 days 00:00:34.800000                 1  \n",
       "1  0 days 00:04:25.200000                 1  "
      ]
     },
     "execution_count": 14,
     "metadata": {},
     "output_type": "execute_result"
    }
   ],
   "source": [
    "clinics_df = pd.read_csv('../data/datos_limpios_p1.csv', parse_dates=[2, 12, 13, 15, 17])\n",
    "clinics_df['HourOfDay'] = clinics_df['TurnoInicioDateTime'].dt.hour\n",
    "clinics_df.head(2)"
   ]
  },
  {
   "cell_type": "code",
   "execution_count": 24,
   "id": "1800a11a-12e6-4163-8f73-00cd0e71ca0c",
   "metadata": {},
   "outputs": [],
   "source": [
    "clinics_df['WaitingTimeInLine'] = pd.to_timedelta(clinics_df['WaitingTimeInLine'])"
   ]
  },
  {
   "cell_type": "code",
   "execution_count": 25,
   "id": "b614b97c-f02d-4afe-a4a2-b860cbe6ee71",
   "metadata": {},
   "outputs": [
    {
     "name": "stdout",
     "output_type": "stream",
     "text": [
      "<class 'pandas.core.frame.DataFrame'>\n",
      "RangeIndex: 30578 entries, 0 to 30577\n",
      "Data columns (total 19 columns):\n",
      " #   Column               Non-Null Count  Dtype          \n",
      "---  ------               --------------  -----          \n",
      " 0   Orden                30578 non-null  int64          \n",
      " 1   Sucursal             30578 non-null  object         \n",
      " 2   FechaID              30578 non-null  datetime64[ns] \n",
      " 3   HoraLLegada          30578 non-null  int64          \n",
      " 4   TurnoID              30578 non-null  int64          \n",
      " 5   Turno                30578 non-null  object         \n",
      " 6   TurnoTipo            30578 non-null  object         \n",
      " 7   TurnoHoraInicio      30578 non-null  object         \n",
      " 8   TurnoHoraFin         30578 non-null  object         \n",
      " 9   TurnoMinutosEspera   30578 non-null  float64        \n",
      " 10  TAPRecepcionMinutos  26316 non-null  float64        \n",
      " 11  TAPRecepcionCaja     26316 non-null  float64        \n",
      " 12  TurnoInicioDateTime  30578 non-null  datetime64[ns] \n",
      " 13  TurnoFinDateTime     30578 non-null  datetime64[ns] \n",
      " 14  TurnoGrupo           30578 non-null  object         \n",
      " 15  WaitingTimeInLine    30578 non-null  timedelta64[ns]\n",
      " 16  HourOfDay            30578 non-null  int32          \n",
      " 17  TimeInService        26316 non-null  object         \n",
      " 18  HasTimeInService     30578 non-null  int64          \n",
      "dtypes: datetime64[ns](3), float64(3), int32(1), int64(4), object(7), timedelta64[ns](1)\n",
      "memory usage: 4.3+ MB\n"
     ]
    }
   ],
   "source": [
    "clinics_df.info()"
   ]
  },
  {
   "cell_type": "markdown",
   "id": "6f2da482-fd43-44e4-b94d-34d020ee852a",
   "metadata": {},
   "source": [
    "## 20 minutes threshold"
   ]
  },
  {
   "cell_type": "code",
   "execution_count": 34,
   "id": "d91bc6ae-2e0f-4ffc-ab41-3c521520f85a",
   "metadata": {},
   "outputs": [
    {
     "data": {
      "text/plain": [
       "Sucursal\n",
       "CULIACAN                     3.230370\n",
       "CULIACAN CAÑADAS             5.496368\n",
       "CULIACAN COLEGIO MILITAR    28.724641\n",
       "CULIACAN LA CONQUISTA       11.045259\n",
       "Name: WaitingTimeInLine, dtype: float64"
      ]
     },
     "execution_count": 34,
     "metadata": {},
     "output_type": "execute_result"
    }
   ],
   "source": [
    "# Define the threshold duration (20 minutes)\n",
    "threshold = pd.Timedelta(minutes=20)\n",
    "clinics_df[\n",
    "    clinics_df['WaitingTimeInLine'] > threshold\n",
    "].groupby('Sucursal')['WaitingTimeInLine'].size() / clinics_df.groupby('Sucursal')['WaitingTimeInLine'].size() * 100"
   ]
  },
  {
   "cell_type": "markdown",
   "id": "908a13f4-d5f3-461d-87f4-e0206b2fc6d5",
   "metadata": {},
   "source": [
    "Arriba se muestra el porcentaje de observaciones que superaron los 20 minutos de tiempo de espera en la fila antes de ser atendidos (o de haberse retirado) por sucursal. Nuestro objetivo es reducir estos porcentajes."
   ]
  },
  {
   "cell_type": "code",
   "execution_count": 44,
   "id": "fe9b7407-5ebe-4133-bb8b-cb33e6b5a64b",
   "metadata": {},
   "outputs": [
    {
     "data": {
      "text/plain": [
       "10.769180456537379"
      ]
     },
     "execution_count": 44,
     "metadata": {},
     "output_type": "execute_result"
    }
   ],
   "source": [
    "clinics_df[\n",
    "    clinics_df['WaitingTimeInLine'] > threshold\n",
    "].shape[0] / clinics_df.shape[0] * 100"
   ]
  },
  {
   "cell_type": "markdown",
   "id": "4ee0359f-2157-4acb-8ae1-f544b58539db",
   "metadata": {},
   "source": [
    "El 10.77% de toda la base que estamos usando presenta tiempos de espera en la fila antes de ser atendidos de más de 20 minutos."
   ]
  },
  {
   "cell_type": "code",
   "execution_count": 18,
   "id": "75751956-6c0c-4ac2-a202-1ac9338b11ec",
   "metadata": {},
   "outputs": [],
   "source": [
    "# clinics_df.loc[0:1, :].to_csv('../data/sample.csv', encoding='utf-8', index=False)"
   ]
  },
  {
   "cell_type": "markdown",
   "id": "0281df0e-2663-4665-a5b1-f22647fd0923",
   "metadata": {},
   "source": [
    "## Service time variability"
   ]
  },
  {
   "cell_type": "code",
   "execution_count": 45,
   "id": "67596404-98d1-4f98-b171-38a93dab2e71",
   "metadata": {},
   "outputs": [
    {
     "data": {
      "text/html": [
       "<div>\n",
       "<style scoped>\n",
       "    .dataframe tbody tr th:only-of-type {\n",
       "        vertical-align: middle;\n",
       "    }\n",
       "\n",
       "    .dataframe tbody tr th {\n",
       "        vertical-align: top;\n",
       "    }\n",
       "\n",
       "    .dataframe thead th {\n",
       "        text-align: right;\n",
       "    }\n",
       "</style>\n",
       "<table border=\"1\" class=\"dataframe\">\n",
       "  <thead>\n",
       "    <tr style=\"text-align: right;\">\n",
       "      <th></th>\n",
       "      <th>Orden</th>\n",
       "      <th>Sucursal</th>\n",
       "      <th>FechaID</th>\n",
       "      <th>HoraLLegada</th>\n",
       "      <th>TurnoID</th>\n",
       "      <th>Turno</th>\n",
       "      <th>TurnoTipo</th>\n",
       "      <th>TurnoHoraInicio</th>\n",
       "      <th>TurnoHoraFin</th>\n",
       "      <th>TurnoMinutosEspera</th>\n",
       "      <th>TAPRecepcionMinutos</th>\n",
       "      <th>TAPRecepcionCaja</th>\n",
       "      <th>TurnoInicioDateTime</th>\n",
       "      <th>TurnoFinDateTime</th>\n",
       "      <th>TurnoGrupo</th>\n",
       "      <th>WaitingTimeInLine</th>\n",
       "      <th>HourOfDay</th>\n",
       "      <th>TimeInService</th>\n",
       "      <th>HasTimeInService</th>\n",
       "    </tr>\n",
       "  </thead>\n",
       "  <tbody>\n",
       "    <tr>\n",
       "      <th>0</th>\n",
       "      <td>424722</td>\n",
       "      <td>CULIACAN</td>\n",
       "      <td>2024-03-01</td>\n",
       "      <td>6</td>\n",
       "      <td>41691626</td>\n",
       "      <td>P001</td>\n",
       "      <td>Estudio Pendiente</td>\n",
       "      <td>06:32:32</td>\n",
       "      <td>06:34:58</td>\n",
       "      <td>2.43</td>\n",
       "      <td>0.58</td>\n",
       "      <td>1135.0</td>\n",
       "      <td>2024-03-01 06:32:32</td>\n",
       "      <td>2024-03-01 06:34:58</td>\n",
       "      <td>P</td>\n",
       "      <td>0 days 00:02:26</td>\n",
       "      <td>6</td>\n",
       "      <td>0 days 00:00:34.800000</td>\n",
       "      <td>1</td>\n",
       "    </tr>\n",
       "    <tr>\n",
       "      <th>1</th>\n",
       "      <td>424738</td>\n",
       "      <td>CULIACAN</td>\n",
       "      <td>2024-03-01</td>\n",
       "      <td>6</td>\n",
       "      <td>41696473</td>\n",
       "      <td>N020</td>\n",
       "      <td>Solicitar Estudios</td>\n",
       "      <td>06:47:18</td>\n",
       "      <td>07:06:33</td>\n",
       "      <td>19.25</td>\n",
       "      <td>4.42</td>\n",
       "      <td>1134.0</td>\n",
       "      <td>2024-03-01 06:47:18</td>\n",
       "      <td>2024-03-01 07:06:33</td>\n",
       "      <td>N</td>\n",
       "      <td>0 days 00:19:15</td>\n",
       "      <td>6</td>\n",
       "      <td>0 days 00:04:25.200000</td>\n",
       "      <td>1</td>\n",
       "    </tr>\n",
       "    <tr>\n",
       "      <th>2</th>\n",
       "      <td>424754</td>\n",
       "      <td>CULIACAN</td>\n",
       "      <td>2024-03-01</td>\n",
       "      <td>7</td>\n",
       "      <td>41696082</td>\n",
       "      <td>C007</td>\n",
       "      <td>Citado</td>\n",
       "      <td>07:03:23</td>\n",
       "      <td>07:04:14</td>\n",
       "      <td>0.85</td>\n",
       "      <td>2.97</td>\n",
       "      <td>1136.0</td>\n",
       "      <td>2024-03-01 07:03:23</td>\n",
       "      <td>2024-03-01 07:04:14</td>\n",
       "      <td>C</td>\n",
       "      <td>0 days 00:00:51</td>\n",
       "      <td>7</td>\n",
       "      <td>0 days 00:02:58.200000</td>\n",
       "      <td>1</td>\n",
       "    </tr>\n",
       "    <tr>\n",
       "      <th>3</th>\n",
       "      <td>424770</td>\n",
       "      <td>CULIACAN</td>\n",
       "      <td>2024-03-01</td>\n",
       "      <td>7</td>\n",
       "      <td>41701275</td>\n",
       "      <td>N039</td>\n",
       "      <td>Solicitar Estudios</td>\n",
       "      <td>07:18:33</td>\n",
       "      <td>07:33:59</td>\n",
       "      <td>15.43</td>\n",
       "      <td>1.68</td>\n",
       "      <td>1137.0</td>\n",
       "      <td>2024-03-01 07:18:33</td>\n",
       "      <td>2024-03-01 07:33:59</td>\n",
       "      <td>N</td>\n",
       "      <td>0 days 00:15:26</td>\n",
       "      <td>7</td>\n",
       "      <td>0 days 00:01:40.800000</td>\n",
       "      <td>1</td>\n",
       "    </tr>\n",
       "    <tr>\n",
       "      <th>4</th>\n",
       "      <td>424786</td>\n",
       "      <td>CULIACAN</td>\n",
       "      <td>2024-03-01</td>\n",
       "      <td>7</td>\n",
       "      <td>41704260</td>\n",
       "      <td>N050</td>\n",
       "      <td>Solicitar Estudios</td>\n",
       "      <td>07:30:09</td>\n",
       "      <td>07:50:12</td>\n",
       "      <td>20.05</td>\n",
       "      <td>4.68</td>\n",
       "      <td>1134.0</td>\n",
       "      <td>2024-03-01 07:30:09</td>\n",
       "      <td>2024-03-01 07:50:12</td>\n",
       "      <td>N</td>\n",
       "      <td>0 days 00:20:03</td>\n",
       "      <td>7</td>\n",
       "      <td>0 days 00:04:40.800000</td>\n",
       "      <td>1</td>\n",
       "    </tr>\n",
       "  </tbody>\n",
       "</table>\n",
       "</div>"
      ],
      "text/plain": [
       "    Orden  Sucursal    FechaID  HoraLLegada   TurnoID Turno  \\\n",
       "0  424722  CULIACAN 2024-03-01            6  41691626  P001   \n",
       "1  424738  CULIACAN 2024-03-01            6  41696473  N020   \n",
       "2  424754  CULIACAN 2024-03-01            7  41696082  C007   \n",
       "3  424770  CULIACAN 2024-03-01            7  41701275  N039   \n",
       "4  424786  CULIACAN 2024-03-01            7  41704260  N050   \n",
       "\n",
       "            TurnoTipo TurnoHoraInicio TurnoHoraFin  TurnoMinutosEspera  \\\n",
       "0   Estudio Pendiente        06:32:32     06:34:58                2.43   \n",
       "1  Solicitar Estudios        06:47:18     07:06:33               19.25   \n",
       "2              Citado        07:03:23     07:04:14                0.85   \n",
       "3  Solicitar Estudios        07:18:33     07:33:59               15.43   \n",
       "4  Solicitar Estudios        07:30:09     07:50:12               20.05   \n",
       "\n",
       "   TAPRecepcionMinutos  TAPRecepcionCaja TurnoInicioDateTime  \\\n",
       "0                 0.58            1135.0 2024-03-01 06:32:32   \n",
       "1                 4.42            1134.0 2024-03-01 06:47:18   \n",
       "2                 2.97            1136.0 2024-03-01 07:03:23   \n",
       "3                 1.68            1137.0 2024-03-01 07:18:33   \n",
       "4                 4.68            1134.0 2024-03-01 07:30:09   \n",
       "\n",
       "     TurnoFinDateTime TurnoGrupo WaitingTimeInLine  HourOfDay  \\\n",
       "0 2024-03-01 06:34:58          P   0 days 00:02:26          6   \n",
       "1 2024-03-01 07:06:33          N   0 days 00:19:15          6   \n",
       "2 2024-03-01 07:04:14          C   0 days 00:00:51          7   \n",
       "3 2024-03-01 07:33:59          N   0 days 00:15:26          7   \n",
       "4 2024-03-01 07:50:12          N   0 days 00:20:03          7   \n",
       "\n",
       "            TimeInService  HasTimeInService  \n",
       "0  0 days 00:00:34.800000                 1  \n",
       "1  0 days 00:04:25.200000                 1  \n",
       "2  0 days 00:02:58.200000                 1  \n",
       "3  0 days 00:01:40.800000                 1  \n",
       "4  0 days 00:04:40.800000                 1  "
      ]
     },
     "execution_count": 45,
     "metadata": {},
     "output_type": "execute_result"
    }
   ],
   "source": [
    "clinics_df.head()"
   ]
  },
  {
   "cell_type": "code",
   "execution_count": 47,
   "id": "c1f19297-7fbd-4fa7-8ab9-e2b380804c1d",
   "metadata": {},
   "outputs": [],
   "source": [
    "clinics_df['TimeInService'] = pd.to_timedelta(clinics_df['TimeInService'])"
   ]
  },
  {
   "cell_type": "code",
   "execution_count": 50,
   "id": "ba5c3465-4394-4d94-8956-f4437be0c96b",
   "metadata": {},
   "outputs": [
    {
     "data": {
      "text/plain": [
       "TurnoGrupo\n",
       "C   0 days 00:03:41.307112140\n",
       "F   0 days 00:03:26.737333333\n",
       "N   0 days 00:03:38.923620215\n",
       "P   0 days 00:02:41.091113028\n",
       "Name: TimeInService, dtype: timedelta64[ns]"
      ]
     },
     "execution_count": 50,
     "metadata": {},
     "output_type": "execute_result"
    }
   ],
   "source": [
    "clinics_df.groupby(['TurnoGrupo'])['TimeInService'].mean()"
   ]
  },
  {
   "cell_type": "code",
   "execution_count": 49,
   "id": "56ef298d-843c-4f28-ae4f-bf05b66bf937",
   "metadata": {},
   "outputs": [
    {
     "data": {
      "text/plain": [
       "TurnoGrupo  TurnoTipo            \n",
       "C           Citado                  0 days 00:03:41.307112140\n",
       "F           Cotizacion              0 days 00:04:05.174336283\n",
       "            Folio Pagado            0 days 00:03:13.848961424\n",
       "N           Citados sin folio       0 days 00:03:14.962725450\n",
       "            Solicitar Estudios      0 days 00:03:40.982834835\n",
       "P           Abono a Lentes          0 days 00:02:17.189473684\n",
       "            Atención Empresas       0 days 00:03:09.056249999\n",
       "            Entrega de Resultados      0 days 00:02:06.400000\n",
       "            Estudio Pendiente       0 days 00:02:06.575999999\n",
       "            Examen de la Vista      0 days 00:02:16.185267857\n",
       "            Triage                  0 days 00:03:49.500707547\n",
       "Name: TimeInService, dtype: timedelta64[ns]"
      ]
     },
     "execution_count": 49,
     "metadata": {},
     "output_type": "execute_result"
    }
   ],
   "source": [
    "clinics_df.groupby(['TurnoGrupo', 'TurnoTipo'])['TimeInService'].mean()"
   ]
  },
  {
   "cell_type": "code",
   "execution_count": 51,
   "id": "080bd118-4bba-4abe-b186-2ab7b6ac4e38",
   "metadata": {},
   "outputs": [
    {
     "data": {
      "text/plain": [
       "Sucursal                  TurnoGrupo\n",
       "CULIACAN                  C            0 days 00:04:09.278181818\n",
       "                          F            0 days 00:03:55.317073170\n",
       "                          N            0 days 00:04:10.182184197\n",
       "                          P            0 days 00:03:19.720126782\n",
       "CULIACAN CAÑADAS          C            0 days 00:02:58.152913198\n",
       "                          F            0 days 00:02:29.144680851\n",
       "                          N            0 days 00:03:14.539167374\n",
       "                          P            0 days 00:02:08.568218623\n",
       "CULIACAN COLEGIO MILITAR  C            0 days 00:03:47.965145228\n",
       "                          F            0 days 00:03:32.687441860\n",
       "                          N            0 days 00:03:23.620951619\n",
       "                          P            0 days 00:02:32.397270245\n",
       "CULIACAN LA CONQUISTA     C            0 days 00:03:02.149640287\n",
       "                          F            0 days 00:02:14.099999999\n",
       "                          N            0 days 00:02:53.536406995\n",
       "                          P            0 days 00:01:45.914062499\n",
       "Name: TimeInService, dtype: timedelta64[ns]"
      ]
     },
     "execution_count": 51,
     "metadata": {},
     "output_type": "execute_result"
    }
   ],
   "source": [
    "clinics_df.groupby(['Sucursal', 'TurnoGrupo'])['TimeInService'].mean()"
   ]
  },
  {
   "cell_type": "code",
   "execution_count": 52,
   "id": "ceb7c8b4-5125-43b0-926a-fe25ff3fcc45",
   "metadata": {},
   "outputs": [
    {
     "data": {
      "text/plain": [
       "HourOfDay\n",
       "5       0 days 00:03:50.400000\n",
       "6    0 days 00:03:31.830659025\n",
       "7    0 days 00:03:42.828815733\n",
       "8    0 days 00:03:35.949122807\n",
       "9    0 days 00:03:32.568268947\n",
       "10   0 days 00:03:32.372142857\n",
       "11   0 days 00:03:26.432760363\n",
       "12   0 days 00:03:25.226938775\n",
       "13   0 days 00:03:23.387463976\n",
       "14   0 days 00:03:22.991351351\n",
       "15   0 days 00:03:22.233361847\n",
       "16   0 days 00:03:16.504907975\n",
       "17   0 days 00:03:05.382812499\n",
       "18   0 days 00:03:19.475409836\n",
       "Name: TimeInService, dtype: timedelta64[ns]"
      ]
     },
     "execution_count": 52,
     "metadata": {},
     "output_type": "execute_result"
    }
   ],
   "source": [
    "clinics_df.groupby('HourOfDay')['TimeInService'].mean()"
   ]
  },
  {
   "cell_type": "markdown",
   "id": "a08105e7-7dd0-4aad-b182-76a36e7bd260",
   "metadata": {},
   "source": [
    "## Number of Service Windows"
   ]
  },
  {
   "cell_type": "code",
   "execution_count": 61,
   "id": "2b80e426-9e75-4049-a4af-a31f1375c216",
   "metadata": {},
   "outputs": [
    {
     "data": {
      "text/plain": [
       "np.float64(1.0)"
      ]
     },
     "execution_count": 61,
     "metadata": {},
     "output_type": "execute_result"
    }
   ],
   "source": [
    "clinics_df[\n",
    "    clinics_df['HasTimeInService'] == 0\n",
    "]['TAPRecepcionCaja'].isna().sum() / clinics_df[\n",
    "    clinics_df['HasTimeInService'] == 0\n",
    "].shape[0]"
   ]
  },
  {
   "cell_type": "markdown",
   "id": "f054dd95-840f-4091-963e-9c58bcfd3e81",
   "metadata": {},
   "source": [
    "Todas las observaciones que no tienen registrado un 'id' de la caja en la que fueron atendidos tampoco tienen su tiempo de servicio registrado. Esto hace sentido."
   ]
  },
  {
   "cell_type": "code",
   "execution_count": 74,
   "id": "e1931dc3-603e-4811-9589-ba068dccb8e2",
   "metadata": {},
   "outputs": [
    {
     "data": {
      "text/plain": [
       "Sucursal\n",
       "CULIACAN                    10\n",
       "CULIACAN CAÑADAS             6\n",
       "CULIACAN COLEGIO MILITAR     4\n",
       "CULIACAN LA CONQUISTA        3\n",
       "Name: TAPRecepcionCaja, dtype: int64"
      ]
     },
     "execution_count": 74,
     "metadata": {},
     "output_type": "execute_result"
    }
   ],
   "source": [
    "clinics_df.groupby(\n",
    "    'Sucursal'\n",
    ")['TAPRecepcionCaja'].apply(\n",
    "    lambda x: len([v for v in x.unique() if not(np.isnan(v))])\n",
    ")"
   ]
  },
  {
   "cell_type": "markdown",
   "id": "1109bd43-5622-403d-a519-1a7f1a2cd017",
   "metadata": {},
   "source": [
    "Esos son las cajas (ventanillas) disponibles en cada sucursal. "
   ]
  },
  {
   "cell_type": "markdown",
   "id": "e64b9f21-94d5-4ee4-abea-ba3863d5a026",
   "metadata": {},
   "source": [
    "## Service Process Analysis"
   ]
  },
  {
   "cell_type": "code",
   "execution_count": 76,
   "id": "d4434f8c-fe92-4ac5-b797-8c09f25e2623",
   "metadata": {},
   "outputs": [
    {
     "name": "stdout",
     "output_type": "stream",
     "text": [
      "<class 'pandas.core.frame.DataFrame'>\n",
      "RangeIndex: 30578 entries, 0 to 30577\n",
      "Data columns (total 19 columns):\n",
      " #   Column               Non-Null Count  Dtype          \n",
      "---  ------               --------------  -----          \n",
      " 0   Orden                30578 non-null  int64          \n",
      " 1   Sucursal             30578 non-null  object         \n",
      " 2   FechaID              30578 non-null  datetime64[ns] \n",
      " 3   HoraLLegada          30578 non-null  int64          \n",
      " 4   TurnoID              30578 non-null  int64          \n",
      " 5   Turno                30578 non-null  object         \n",
      " 6   TurnoTipo            30578 non-null  object         \n",
      " 7   TurnoHoraInicio      30578 non-null  object         \n",
      " 8   TurnoHoraFin         30578 non-null  object         \n",
      " 9   TurnoMinutosEspera   30578 non-null  float64        \n",
      " 10  TAPRecepcionMinutos  26316 non-null  float64        \n",
      " 11  TAPRecepcionCaja     26316 non-null  float64        \n",
      " 12  TurnoInicioDateTime  30578 non-null  datetime64[ns] \n",
      " 13  TurnoFinDateTime     30578 non-null  datetime64[ns] \n",
      " 14  TurnoGrupo           30578 non-null  object         \n",
      " 15  WaitingTimeInLine    30578 non-null  timedelta64[ns]\n",
      " 16  HourOfDay            30578 non-null  int32          \n",
      " 17  TimeInService        26316 non-null  timedelta64[ns]\n",
      " 18  HasTimeInService     30578 non-null  int64          \n",
      "dtypes: datetime64[ns](3), float64(3), int32(1), int64(4), object(6), timedelta64[ns](2)\n",
      "memory usage: 4.3+ MB\n"
     ]
    }
   ],
   "source": [
    "clinics_df.info()"
   ]
  },
  {
   "cell_type": "code",
   "execution_count": 79,
   "id": "5bce5c60-ec9e-4008-b73b-7344129d34bf",
   "metadata": {},
   "outputs": [],
   "source": [
    "# Convert TimeInService to total seconds\n",
    "clinics_df['TimeInService_seconds'] = clinics_df['TimeInService'].dt.total_seconds()\n",
    "\n",
    "# to minutes:\n",
    "clinics_df['TimeInService_minutes'] = clinics_df['TimeInService'].dt.total_seconds() / 60\n",
    "\n",
    "# It's crucial to handle any potential NaT (Not a Time) or negative timedelta values\n",
    "# if they exist in your data, as they can cause errors in fitting.\n",
    "# For example, you might want to remove or impute them:\n",
    "service_times = clinics_df.dropna(subset=['TimeInService_minutes'])['TimeInService_minutes']\n",
    "# service_time = clinics_df[clinics_df['TimeInService_seconds'] > 0] # Service time should be positive"
   ]
  },
  {
   "cell_type": "code",
   "execution_count": 84,
   "id": "b17fa074-829b-4cd7-aada-137217d168e7",
   "metadata": {},
   "outputs": [
    {
     "data": {
      "image/png": "[encoded data removed]",
      "text/plain": [
       "<Figure size 1000x600 with 1 Axes>"
      ]
     },
     "metadata": {},
     "output_type": "display_data"
    },
    {
     "data": {
      "image/png": "[encoded data removed]",
      "text/plain": [
       "<Figure size 800x500 with 1 Axes>"
      ]
     },
     "metadata": {},
     "output_type": "display_data"
    }
   ],
   "source": [
    "# Histogram\n",
    "plt.figure(figsize=(10, 6))\n",
    "sns.histplot(service_times, kde=True, bins=50) # Adjust bins as needed\n",
    "plt.title('Histogram and KDE of Service Times')\n",
    "plt.xlabel('Service Time (minutes)')\n",
    "plt.ylabel('Frequency')\n",
    "plt.show()\n",
    "\n",
    "# Box plot (to identify outliers)\n",
    "plt.figure(figsize=(8, 5))\n",
    "sns.boxplot(x=service_times)\n",
    "plt.title('Box Plot of Service Times')\n",
    "plt.xlabel('Service Time (minutes)')\n",
    "plt.show()"
   ]
  },
  {
   "cell_type": "code",
   "execution_count": 108,
   "id": "d1d9ea03-cef6-48e7-83f3-0825484a424d",
   "metadata": {},
   "outputs": [
    {
     "name": "stdout",
     "output_type": "stream",
     "text": [
      "Exponential Fit Parameters: loc=0.02, scale=3.4991259737789653 (mean=3.4991259737789653)\n",
      "Log-Normal Fit Parameters: shape(sigma)=0.3729782115414504, loc=-1.4322215688341433, scale(exp(mu))=4.612167350845283\n"
     ]
    }
   ],
   "source": [
    "service_times = service_times[service_times > 0] # Ensure positive values for distributions like exponential and log-normal\n",
    "\n",
    "# --- Fit Exponential Distribution ---\n",
    "# The exponential distribution is defined by a 'loc' (location) and 'scale' parameter.\n",
    "# For service times, loc is often 0. The scale is 1/lambda (mean).\n",
    "exp_params = stats.expon.fit(service_times)  # floc=0 fixes the location at 0\n",
    "exp_dist = stats.expon(loc=exp_params[0], scale=exp_params[1])\n",
    "print(f\"Exponential Fit Parameters: loc={exp_params[0]}, scale={exp_params[1]} (mean={exp_params[1]})\")\n",
    "\n",
    "# --- Fit Log-Normal Distribution ---\n",
    "# The log-normal distribution takes three parameters from scipy's fit:\n",
    "# shape (s, which is sigma), loc (location offset), and scale (exp(mu)).\n",
    "# If you expect your data to start from 0, you can set loc=0.\n",
    "lognorm_params = stats.lognorm.fit(service_times) # floc=0 fixes the location at 0\n",
    "lognorm_dist = stats.lognorm(s=lognorm_params[0], loc=lognorm_params[1], scale=lognorm_params[2])\n",
    "print(f\"Log-Normal Fit Parameters: shape(sigma)={lognorm_params[0]}, loc={lognorm_params[1]}, scale(exp(mu))={lognorm_params[2]}\")\n",
    "\n",
    "# You can also try other distributions like Gamma, Weibull, etc.\n",
    "# --- Fit Gamma Distribution ---\n",
    "# gamma_params = stats.gamma.fit(data, floc=0)\n",
    "# gamma_dist = stats.gamma(a=gamma_params[0], loc=gamma_params[1], scale=gamma_params[2])\n",
    "# print(f\"Gamma Fit Parameters: shape(a)={gamma_params[0]}, loc={gamma_params[1]}, scale={gamma_params[2]}\")\n",
    "\n",
    "# --- Fit Weibull (Minimum) Distribution ---\n",
    "# weibull_min_params = stats.weibull_min.fit(data, floc=0)\n",
    "# weibull_min_dist = stats.weibull_min(c=weibull_min_params[0], loc=weibull_min_params[1], scale=weibull_min_params[2])\n",
    "# print(f\"Weibull Min Fit Parameters: shape(c)={weibull_min_params[0]}, loc={weibull_min_params[1]}, scale={weibull_min_params[2]}\")"
   ]
  },
  {
   "cell_type": "code",
   "execution_count": 109,
   "id": "6f7fbdc0-203f-41d5-bc2a-3b823fa4e28a",
   "metadata": {},
   "outputs": [
    {
     "data": {
      "text/plain": [
       "(0.02, 3.4991259737789653)"
      ]
     },
     "execution_count": 109,
     "metadata": {},
     "output_type": "execute_result"
    }
   ],
   "source": [
    "exp_dist.kwds['loc'], exp_dist.kwds['scale']"
   ]
  },
  {
   "cell_type": "code",
   "execution_count": 110,
   "id": "9afa693d-de12-4a52-86df-0e91c18ca127",
   "metadata": {},
   "outputs": [
    {
     "data": {
      "image/png": "[encoded data removed]",
      "text/plain": [
       "<Figure size 1200x700 with 1 Axes>"
      ]
     },
     "metadata": {},
     "output_type": "display_data"
    }
   ],
   "source": [
    "plt.figure(figsize=(12, 7))\n",
    "sns.histplot(service_times, bins=50, stat='density', kde=False, label='Empirical Data', color='skyblue')\n",
    "\n",
    "# Plot fitted distributions\n",
    "x = np.linspace(service_times.min(), service_times.max(), 1000)\n",
    "\n",
    "plt.plot(x, exp_dist.pdf(x), 'r-', lw=2, label=f'Exponential PDF (scale={exp_params[1]:.2f})')\n",
    "plt.plot(x, lognorm_dist.pdf(x), 'g-', lw=2, label=f'Log-Normal PDF (s={lognorm_params[0]:.2f}, scale={lognorm_params[2]:.2f})')\n",
    "# Add other distributions if you fitted them\n",
    "# plt.plot(x, gamma_dist.pdf(x), 'm-', lw=2, label='Gamma PDF')\n",
    "# plt.plot(x, weibull_min_dist.pdf(x), 'y-', lw=2, label='Weibull Min PDF')\n",
    "\n",
    "\n",
    "plt.title('Service Time Distribution with Fitted Models')\n",
    "plt.xlabel('Service Time (minutes)')\n",
    "plt.ylabel('Density')\n",
    "plt.legend()\n",
    "plt.show()"
   ]
  },
  {
   "cell_type": "code",
   "execution_count": 105,
   "id": "5b56b0cd-14ad-4c18-9de7-69ebb5960ecf",
   "metadata": {},
   "outputs": [
    {
     "ename": "AttributeError",
     "evalue": "'rv_continuous_frozen' object has no attribute 'scale'",
     "output_type": "error",
     "traceback": [
      "\u001b[1;31m---------------------------------------------------------------------------\u001b[0m",
      "\u001b[1;31mAttributeError\u001b[0m                            Traceback (most recent call last)",
      "Cell \u001b[1;32mIn[105], line 1\u001b[0m\n\u001b[1;32m----> 1\u001b[0m exp_dist\u001b[38;5;241m.\u001b[39mscale\n",
      "\u001b[1;31mAttributeError\u001b[0m: 'rv_continuous_frozen' object has no attribute 'scale'"
     ]
    }
   ],
   "source": [
    "exp_dist."
   ]
  },
  {
   "cell_type": "code",
   "execution_count": 88,
   "id": "cefc77ba-c867-4d93-9e89-90d5714d50fd",
   "metadata": {},
   "outputs": [
    {
     "data": {
      "image/png": "[encoded data removed]",
      "text/plain": [
       "<Figure size 1200x600 with 2 Axes>"
      ]
     },
     "metadata": {},
     "output_type": "display_data"
    }
   ],
   "source": [
    "plt.figure(figsize=(12, 6))\n",
    "\n",
    "plt.subplot(1, 2, 1)\n",
    "stats.probplot(service_times, dist=exp_dist, plot=plt) # Using the fitted distribution object\n",
    "plt.title('Q-Q Plot for Exponential Distribution')\n",
    "\n",
    "plt.subplot(1, 2, 2)\n",
    "stats.probplot(service_times, dist=lognorm_dist, plot=plt) # Using the fitted distribution object\n",
    "plt.title('Q-Q Plot for Log-Normal Distribution')\n",
    "\n",
    "plt.tight_layout()\n",
    "plt.show()"
   ]
  },
  {
   "cell_type": "code",
   "execution_count": 91,
   "id": "a40c22ba-65f7-4c88-908c-b7cddfe89b37",
   "metadata": {},
   "outputs": [
    {
     "name": "stdout",
     "output_type": "stream",
     "text": [
      "Exponential KS Test: Statistic=0.2485, P-value=0.0000\n",
      "Log-Normal KS Test: Statistic=0.0661, P-value=0.0000\n",
      "Exponential: AIC=118851.73, BIC=118859.91\n",
      "Log-Normal: AIC=107272.20, BIC=107288.56\n"
     ]
    }
   ],
   "source": [
    "# --- Kolmogorov-Smirnov Test ---\n",
    "# For KS test, it's better to use the string name of the distribution if its parameters\n",
    "# were estimated from the data, or pass the fully specified frozen distribution.\n",
    "\n",
    "ks_stat_exp, ks_p_value_exp = stats.kstest(service_times, exp_dist.cdf) # Compare with the CDF of the fitted distribution\n",
    "print(f\"Exponential KS Test: Statistic={ks_stat_exp:.4f}, P-value={ks_p_value_exp:.4f}\")\n",
    "\n",
    "ks_stat_lognorm, ks_p_value_lognorm = stats.kstest(service_times, lognorm_dist.cdf)\n",
    "print(f\"Log-Normal KS Test: Statistic={ks_stat_lognorm:.4f}, P-value={ks_p_value_lognorm:.4f}\")\n",
    "\n",
    "# Note: The interpretation of p-values from KS test when parameters are estimated from data can be tricky.\n",
    "# A common approach is to use it for relative comparison: a distribution with a smaller KS statistic\n",
    "# (and often a larger p-value, though be cautious here) is generally preferred.\n",
    "\n",
    "# --- Akaike Information Criterion (AIC) / Bayesian Information Criterion (BIC) ---\n",
    "# These are useful for comparing models with different numbers of parameters.\n",
    "# Lower AIC/BIC values indicate a better fit, penalizing model complexity.\n",
    "# You usually need the log-likelihood for these. Scipy's fit methods don't directly\n",
    "# return log-likelihood for all distributions, but the frozen distribution's logpdf can be used.\n",
    "\n",
    "from scipy import stats\n",
    "import numpy as np\n",
    "\n",
    "def calculate_aic_bic(data, dist_frozen):\n",
    "    \"\"\"\n",
    "    Calculates AIC and BIC for a given dataset and a frozen scipy distribution.\n",
    "\n",
    "    Parameters:\n",
    "    data (array-like): The data that was used to fit the distribution.\n",
    "    dist_frozen (scipy.stats.rv_continuous_frozen): The frozen distribution object\n",
    "                                                    (e.g., result of stats.expon(loc=l, scale=s)).\n",
    "\n",
    "    Returns:\n",
    "    tuple: (aic, bic)\n",
    "    \"\"\"\n",
    "    log_likelihood = np.sum(dist_frozen.logpdf(data))\n",
    "    \n",
    "    k = 0  # Initialize k (number of estimated parameters)\n",
    "\n",
    "    # Determine k based on the distribution type and how it was fitted in your example code.\n",
    "    # This assumes 'floc=0' was used for fitting exponential and log-normal,\n",
    "    # meaning 'loc' was fixed and not estimated.\n",
    "    \n",
    "    # Access the distribution name via dist_frozen.dist.name\n",
    "    if dist_frozen.dist.name == stats.expon.name:\n",
    "        # For stats.expon.fit(data, floc=0), 'loc' is fixed (at 0), \n",
    "        # and 'scale' is estimated.\n",
    "        # Parameters for expon are (loc, scale).\n",
    "        k = 1  # Only 'scale' was estimated.\n",
    "    elif dist_frozen.dist.name == stats.lognorm.name:\n",
    "        # For stats.lognorm.fit(data, floc=0), 'loc' is fixed (at 0),\n",
    "        # 's' (shape) and 'scale' are estimated.\n",
    "        # Parameters for lognorm are (s, loc, scale).\n",
    "        k = 2  # 's' (shape) and 'scale' were estimated.\n",
    "    elif dist_frozen.dist.name == stats.gamma.name:\n",
    "        # If you also fitted gamma with floc=0:\n",
    "        # Parameters for gamma are a (shape), loc, scale.\n",
    "        # 'a' (shape) and 'scale' would be estimated.\n",
    "        k = 2 \n",
    "    elif dist_frozen.dist.name == stats.weibull_min.name:\n",
    "        # If you also fitted weibull_min with floc=0:\n",
    "        # Parameters for weibull_min are c (shape), loc, scale.\n",
    "        # 'c' (shape) and 'scale' would be estimated.\n",
    "        k = 2\n",
    "    else:\n",
    "        # If k is not explicitly defined for a distribution and its fitting method,\n",
    "        # it's safer to raise an error. Calculating k generically for a frozen\n",
    "        # distribution without knowing which parameters were fixed during fitting is error-prone.\n",
    "        raise ValueError(\n",
    "            f\"The number of estimated parameters (k) for AIC/BIC calculation \"\n",
    "            f\"is not specifically defined for the distribution: '{dist_frozen.dist.name}'. \"\n",
    "            f\"Please update the 'calculate_aic_bic' function to include logic for this \"\n",
    "            f\"distribution, considering any parameters that were fixed during the fitting process (e.g., using floc, fscale).\"\n",
    "        )\n",
    "\n",
    "    n = len(data)\n",
    "    if n == 0:\n",
    "        # Handle empty data case to avoid log(0) or division by zero if n is used elsewhere.\n",
    "        print(\"Warning: Empty data provided to calculate_aic_bic. Returning NaN for AIC/BIC.\")\n",
    "        return np.nan, np.nan \n",
    "\n",
    "    aic = 2 * k - 2 * log_likelihood\n",
    "    bic = k * np.log(n) - 2 * log_likelihood # np.log is natural logarithm\n",
    "    \n",
    "    return aic, bic\n",
    "\n",
    "\n",
    "aic_exp, bic_exp = calculate_aic_bic(service_times, exp_dist)\n",
    "aic_lognorm, bic_lognorm = calculate_aic_bic(service_times, lognorm_dist)\n",
    "\n",
    "print(f\"Exponential: AIC={aic_exp:.2f}, BIC={bic_exp:.2f}\")\n",
    "print(f\"Log-Normal: AIC={aic_lognorm:.2f}, BIC={bic_lognorm:.2f}\")"
   ]
  },
  {
   "cell_type": "markdown",
   "id": "584521a3-e097-494a-b50f-0160509014fc",
   "metadata": {},
   "source": [
    "\"A smaller KS statistic and a larger p-value suggest a better fit.\""
   ]
  },
  {
   "cell_type": "code",
   "execution_count": null,
   "id": "1bc6acd0-b763-455e-ba1e-1c5ba5bc4310",
   "metadata": {},
   "outputs": [],
   "source": []
  },
  {
   "cell_type": "code",
   "execution_count": 115,
   "id": "d35e1777-4cc4-4015-b6ee-a5bf6367b314",
   "metadata": {},
   "outputs": [],
   "source": [
    "import sys\n",
    "import os\n",
    "\n",
    "# Get the absolute path of the current notebook's directory\n",
    "notebook_dir = os.path.dirname(os.path.abspath(\"__file__\")) # For .py files\n",
    "# If in a Jupyter notebook, you might need:\n",
    "# notebook_dir = os.getcwd() # Gets the directory where the notebook is running\n",
    "\n",
    "# Get the absolute path of the project root (one level up from 'notebooks')\n",
    "project_root = os.path.abspath(os.path.join(notebook_dir, '..'))\n",
    "\n",
    "# Add the project root to sys.path if it's not already there\n",
    "if project_root not in sys.path:\n",
    "    sys.path.append(project_root)"
   ]
  },
  {
   "cell_type": "code",
   "execution_count": 119,
   "id": "26c2a2cf-85ae-463f-9d00-d533823bd453",
   "metadata": {},
   "outputs": [],
   "source": [
    "# Now import from src is possible\n",
    "from src.services import distribution\n",
    "from src.external_systems import exponential_dist_scipy"
   ]
  },
  {
   "cell_type": "code",
   "execution_count": 121,
   "id": "5383cd8c-1503-4d3d-8f1e-b3e8a134d0f4",
   "metadata": {},
   "outputs": [],
   "source": [
    "distribution_model = distribution.Distribution()\n",
    "exponential_distribution_model = exponential_dist_scipy.ExponentialDistributionScipy()"
   ]
  },
  {
   "cell_type": "code",
   "execution_count": 124,
   "id": "6c8daefd-6f55-4703-919c-459713ae6a75",
   "metadata": {},
   "outputs": [
    {
     "name": "stdout",
     "output_type": "stream",
     "text": [
      "Exponential Fit Parameters: loc=0.02, scale=3.4991259737789653\n"
     ]
    }
   ],
   "source": [
    "exp_params = distribution_model.fit_distribution(\n",
    "    service_times, exponential_distribution_model\n",
    ")\n",
    "exp_dist = stats.expon(\n",
    "    loc=exp_params[0], scale=exp_params[1]\n",
    ")\n",
    "print(f\"Exponential Fit Parameters: loc={exp_params[0]}, scale={exp_params[1]}\")"
   ]
  },
  {
   "cell_type": "code",
   "execution_count": 126,
   "id": "6ca868df-661f-4d21-8664-ec98d74d806e",
   "metadata": {},
   "outputs": [
    {
     "data": {
      "text/plain": [
       "Sucursal                  TurnoGrupo\n",
       "CULIACAN                  C                            (0.65, 3.5046363636361106)\n",
       "                          F                            (1.03, 2.8919512195119736)\n",
       "                          N                             (0.02, 4.149703069954469)\n",
       "                          P             (0.18000000000000002, 3.1486687797145407)\n",
       "CULIACAN CAÑADAS          C              (0.7799999999999999, 2.1892152199760013)\n",
       "                          F                             (0.88, 1.605744680850798)\n",
       "                          N                             (0.1, 3.1423194562444916)\n",
       "                          P                            (0.02, 2.1228036437243585)\n",
       "CULIACAN COLEGIO MILITAR  C                            (0.08, 3.7194190871366066)\n",
       "                          F                            (0.35, 3.1947906976743408)\n",
       "                          N                              (0.0, 3.393682526988935)\n",
       "                          P                             (0.08, 2.459954504094267)\n",
       "CULIACAN LA CONQUISTA     C                            (1.07, 1.9658273381290166)\n",
       "                          F                             (0.9, 1.3349999999996371)\n",
       "                          N                              (0.53, 2.36227344992023)\n",
       "                          P                            (0.15, 1.6152343749996094)\n",
       "Name: TimeInService_minutes, dtype: object"
      ]
     },
     "execution_count": 126,
     "metadata": {},
     "output_type": "execute_result"
    }
   ],
   "source": [
    "clinics_df.dropna(subset='TimeInService_minutes').groupby(\n",
    "    ['Sucursal', 'TurnoGrupo']\n",
    ")['TimeInService_minutes'].apply(\n",
    "    lambda x: distribution_model.fit_distribution(\n",
    "        x, exponential_distribution_model\n",
    "    )\n",
    ")"
   ]
  }
 ],
 "metadata": {
  "kernelspec": {
   "display_name": "Python 3 (ipykernel)",
   "language": "python",
   "name": "python3"
  },
  "language_info": {
   "codemirror_mode": {
    "name": "ipython",
    "version": 3
   },
   "file_extension": ".py",
   "mimetype": "text/x-python",
   "name": "python",
   "nbconvert_exporter": "python",
   "pygments_lexer": "ipython3",
   "version": "3.13.2"
  }
 },
 "nbformat": 4,
 "nbformat_minor": 5
}
